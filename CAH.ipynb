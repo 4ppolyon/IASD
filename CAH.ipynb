{
 "cells": [
  {
   "cell_type": "code",
   "execution_count": 99,
   "outputs": [],
   "source": [
    "import numpy as np\n",
    "from queue import PriorityQueue\n",
    "from scipy.cluster.hierarchy import dendrogram, linkage\n",
    "import matplotlib.pyplot as plt\n",
    "\n",
    "# matrice de similarité\n",
    "sim_mat = np.array([[10, 6, 0, 0, 0, 0, 0, 0, 0],\n",
    "                    [6, 10, 0, 0, 0, 0, 0, 0, 0],\n",
    "                    [0, 0, 10, 5, 3, 3, 1, 1, 0],\n",
    "                    [0, 0, 5, 10, 1, 2, 1, 1, 0],\n",
    "                    [0, 0, 3, 1, 10, 4, 1, 2, 0],\n",
    "                    [0, 0, 3, 2, 4, 10, 1, 4, 0],\n",
    "                    [0, 0, 1, 1, 1, 1, 10, 1, 0],\n",
    "                    [0, 0, 1, 1, 2, 4, 1, 10, 0],\n",
    "                    [0, 0, 0, 0, 0, 0, 0, 0, 10]])\n",
    "\n",
    "# génération du tableau de file de priorité sans les valeurs de la diagonale\n",
    "def generate_priority_queue(sim_mat):\n",
    "    N = sim_mat.shape[0]\n",
    "    P = []\n",
    "    for i in range(N):\n",
    "        P.append(PriorityQueue())\n",
    "    for i in range(N):\n",
    "        for j in range(N):\n",
    "            if i != j:\n",
    "                P[i].put((-sim_mat[i][j], j))\n",
    "    return P\n"
   ],
   "metadata": {
    "collapsed": false,
    "ExecuteTime": {
     "end_time": "2023-11-07T18:06:46.359356776Z",
     "start_time": "2023-11-07T18:06:46.318871506Z"
    }
   },
   "id": "6f38db42ebca1430"
  },
  {
   "cell_type": "code",
   "execution_count": 100,
   "outputs": [],
   "source": [
    "# implémentation de l'algorithme de clustering hiérarchique agglomératif\n",
    "def clustering_hierarchique_agglomeratif(sim_mat):\n",
    "    # Taille de la matrice de similarité\n",
    "    N = sim_mat.shape[0]\n",
    "\n",
    "    # initialisation de la liste des classes actives\n",
    "    I = [1 for i in range(N)]\n",
    "\n",
    "    # initialisation du dendrogramme comme un ndarray de taille N-1\n",
    "    dendrogramme = np.zeros((N - 1, 3))\n",
    "\n",
    "    # initialisation du tableau de file de priorité\n",
    "    P = generate_priority_queue(sim_mat)\n",
    "    temp_queue = PriorityQueue()\n",
    "    \n",
    "    # pour chaque itération k ∈ {1, . . . , N − 1} faire\n",
    "    for k in range(N - 1):\n",
    "        # a = argmax P[i].MAX.sim ; avec i ∈ {1, . . . , N} et I[i] = 1 ;\n",
    "        a = 0\n",
    "        max_sim = 1\n",
    "        for i in range(N):  # on cherche la classe i la plus proche de la classe a\n",
    "            if I[i] == 1 and P[i].queue[0][0] < max_sim:  # si la classe i est active et si la classe i est plus proche de la classe a que la classe a ne l'est d'elle-même\n",
    "                max_sim = P[i].queue[0][0]\n",
    "                a = i\n",
    "\n",
    "        # b = P[a].MAX.index ;\n",
    "        b = P[a].queue[0][1]\n",
    "        \n",
    "        dendrogramme[k][0] = a\n",
    "        dendrogramme[k][1] = b\n",
    "        dendrogramme[k][2] = -max_sim\n",
    "\n",
    "        # I[b] = 0 ;\n",
    "        I[b] = 0\n",
    "\n",
    "        # supprimer S[a][b] de P[a] ;\n",
    "        P[a].get()\n",
    "\n",
    "        for i in range(N):\n",
    "\n",
    "            if I[i] == 1 and i != a:\n",
    "                # supprimer S[i][a] de P[i] ;\n",
    "                for j in range(P[i].qsize()):\n",
    "                    if P[i].queue[0][1] != a and P[i].queue[0][1] != b:\n",
    "                        temp_queue.put(P[i].queue[0])\n",
    "                    P[i].get()\n",
    "                # remettre les valeurs dans la file de priorité\n",
    "                for j in range(temp_queue.qsize()):\n",
    "                    P[i].put(temp_queue.queue[0])\n",
    "                    temp_queue.get()\n",
    "\n",
    "                # supprimer S[a][i] de P[a] ;\n",
    "                for j in range(P[a].qsize()):\n",
    "                    if P[a].queue[0][1] != i:\n",
    "                        temp_queue.put(P[a].queue[0])\n",
    "                    P[a].get()\n",
    "                for j in range(temp_queue.qsize()):\n",
    "                    P[a].put(temp_queue.queue[0])\n",
    "                    temp_queue.get()\n",
    "\n",
    "                # S[i][a] ← max{S[i][a], S[i][b]} ; # Méthode du lien unique\n",
    "                sia = max(sim_mat[i][a], sim_mat[i][b])\n",
    "\n",
    "                # S[a][i] ← max{S[i][a], S[i][b]} ;\n",
    "                sai = max(sim_mat[i][a], sim_mat[i][b])\n",
    "\n",
    "                # insérer (avec tri) S[i][a] dans P[i] et S[a][i] dans P[a] ;\n",
    "                P[i].put((-sia, a))\n",
    "                P[a].put((-sai, i))\n",
    "\n",
    "    return dendrogramme"
   ],
   "metadata": {
    "collapsed": false,
    "ExecuteTime": {
     "end_time": "2023-11-07T18:06:46.359655109Z",
     "start_time": "2023-11-07T18:06:46.359180183Z"
    }
   },
   "id": "4a7c7b4cb42fa557"
  },
  {
   "cell_type": "code",
   "execution_count": 101,
   "outputs": [
    {
     "name": "stdout",
     "output_type": "stream",
     "text": [
      "[[0. 1. 6.]\n",
      " [2. 3. 5.]\n",
      " [4. 5. 4.]\n",
      " [4. 7. 4.]\n",
      " [2. 4. 3.]\n",
      " [2. 6. 1.]\n",
      " [0. 2. 0.]\n",
      " [0. 8. 0.]]\n"
     ]
    }
   ],
   "source": [
    "# test de l'algorithme de clustering hiérarchique agglomératif\n",
    "dendrogramme = clustering_hierarchique_agglomeratif(sim_mat)\n",
    "print(dendrogramme)"
   ],
   "metadata": {
    "collapsed": false,
    "ExecuteTime": {
     "end_time": "2023-11-07T18:06:46.360139272Z",
     "start_time": "2023-11-07T18:06:46.359526797Z"
    }
   },
   "id": "5907c9b4771ab739"
  },
  {
   "cell_type": "code",
   "execution_count": 102,
   "outputs": [
    {
     "data": {
      "text/plain": "<Figure size 640x480 with 1 Axes>",
      "image/png": "[encoded data removed]"
     },
     "metadata": {},
     "output_type": "display_data"
    }
   ],
   "source": [
    "# maintenanat on va utiliser la fonction de scipy pour comparer les résultats\n",
    "linkage_matrix = linkage(sim_mat, 'single') # Elle est composé de N-1 lignes et 4 colonnes (i, j, d, n) avec i et j les indices des clusters fusionnés, d la distance entre les clusters et n le nombre d'éléments dans le cluster\n",
    "dendrogram(linkage_matrix, orientation='top')\n",
    "plt.title('Dendrogramme')\n",
    "plt.xlabel('Indice de l\\'échantillon')\n",
    "plt.show()"
   ],
   "metadata": {
    "collapsed": false,
    "ExecuteTime": {
     "end_time": "2023-11-07T18:06:46.481595472Z",
     "start_time": "2023-11-07T18:06:46.359621786Z"
    }
   },
   "id": "14383b36dccc06b5"
  }
 ],
 "metadata": {
  "kernelspec": {
   "display_name": "Python 3",
   "language": "python",
   "name": "python3"
  },
  "language_info": {
   "codemirror_mode": {
    "name": "ipython",
    "version": 2
   },
   "file_extension": ".py",
   "mimetype": "text/x-python",
   "name": "python",
   "nbconvert_exporter": "python",
   "pygments_lexer": "ipython2",
   "version": "2.7.6"
  }
 },
 "nbformat": 4,
 "nbformat_minor": 5
}
