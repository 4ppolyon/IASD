{
 "cells": [
  {
   "cell_type": "code",
   "execution_count": 21,
   "outputs": [],
   "source": [
    "import numpy as np\n",
    "from queue import PriorityQueue\n",
    "from scipy.cluster.hierarchy import dendrogram, linkage\n",
    "import matplotlib.pyplot as plt\n",
    "\n",
    "# matrice de similarité\n",
    "sim_mat = np.array([[10, 6, 0, 0, 0, 0, 0, 0, 0],\n",
    "                    [6, 10, 0, 0, 0, 0, 0, 0, 0],\n",
    "                    [0, 0, 10, 5, 3, 3, 1, 1, 0],\n",
    "                    [0, 0, 5, 10, 1, 2, 1, 1, 0],\n",
    "                    [0, 0, 3, 1, 10, 4, 1, 2, 0],\n",
    "                    [0, 0, 3, 2, 4, 10, 1, 4, 0],\n",
    "                    [0, 0, 1, 1, 1, 1, 10, 1, 0],\n",
    "                    [0, 0, 1, 1, 2, 4, 1, 10, 0],\n",
    "                    [0, 0, 0, 0, 0, 0, 0, 0, 10]])\n",
    "\n",
    "# génération du tableau de file de priorité sans les valeurs de la diagonale\n",
    "def generate_priority_queue(sim_mat):\n",
    "    N = sim_mat.shape[0]\n",
    "    P = []\n",
    "    for i in range(N):\n",
    "        P.append(PriorityQueue())\n",
    "    for i in range(N):\n",
    "        for j in range(N):\n",
    "            if i != j:\n",
    "                P[i].put((-sim_mat[i][j], j))\n",
    "    return P\n"
   ],
   "metadata": {
    "collapsed": false,
    "ExecuteTime": {
     "end_time": "2023-11-09T09:12:23.155761605Z",
     "start_time": "2023-11-09T09:12:23.115156430Z"
    }
   },
   "id": "6f38db42ebca1430"
  },
  {
   "cell_type": "code",
   "execution_count": 22,
   "outputs": [],
   "source": [
    "# implémentation de l'algorithme de clustering hiérarchique agglomératif\n",
    "def clustering_hierarchique_agglomeratif(sim_mat):\n",
    "    # Taille de la matrice de similarité\n",
    "    N = sim_mat.shape[0]\n",
    "\n",
    "    # initialisation de la liste des classes actives\n",
    "    I = [1 for i in range(N)]\n",
    "\n",
    "    # initialisation du dendrogramme comme un ndarray de taille N-1\n",
    "    dendrogramme = [[0, 0] for i in range(N - 1)]\n",
    "\n",
    "    # initialisation du tableau de file de priorité\n",
    "    P = generate_priority_queue(sim_mat)\n",
    "    temp_queue = PriorityQueue()\n",
    "    \n",
    "    # pour chaque itération k ∈ {1, . . . , N − 1} faire\n",
    "    for k in range(N - 1):\n",
    "        # a = argmax P[i].MAX.sim ; avec i ∈ {1, . . . , N} et I[i] = 1 ;\n",
    "        a = 0\n",
    "        max_sim = 1\n",
    "        for i in range(N):  # on cherche la classe i la plus proche de la classe a\n",
    "            if I[i] == 1 and P[i].queue[0][0] < max_sim:  # si la classe i est active et si la classe i est plus proche de la classe a que la classe a ne l'est d'elle-même\n",
    "                max_sim = P[i].queue[0][0]\n",
    "                a = i\n",
    "\n",
    "        # b = P[a].MAX.index ;\n",
    "        b = P[a].queue[0][1]\n",
    "        \n",
    "        dendrogramme[k][0] = a\n",
    "        dendrogramme[k][1] = b\n",
    "        \n",
    "        # I[b] = 0 ;\n",
    "        I[b] = 0\n",
    "\n",
    "        # supprimer S[a][b] de P[a] ;\n",
    "        P[a].get()\n",
    "\n",
    "        for i in range(N):\n",
    "\n",
    "            if I[i] == 1 and i != a:\n",
    "                # supprimer S[i][a] de P[i] ;\n",
    "                for j in range(P[i].qsize()):\n",
    "                    if P[i].queue[0][1] != a and P[i].queue[0][1] != b:\n",
    "                        temp_queue.put(P[i].queue[0])\n",
    "                    P[i].get()\n",
    "                # remettre les valeurs dans la file de priorité\n",
    "                for j in range(temp_queue.qsize()):\n",
    "                    P[i].put(temp_queue.queue[0])\n",
    "                    temp_queue.get()\n",
    "\n",
    "                # supprimer S[a][i] de P[a] ;\n",
    "                for j in range(P[a].qsize()):\n",
    "                    if P[a].queue[0][1] != i:\n",
    "                        temp_queue.put(P[a].queue[0])\n",
    "                    P[a].get()\n",
    "                for j in range(temp_queue.qsize()):\n",
    "                    P[a].put(temp_queue.queue[0])\n",
    "                    temp_queue.get()\n",
    "\n",
    "                # S[i][a] ← max{S[i][a], S[i][b]} ; # Méthode du lien unique\n",
    "                sia = max(sim_mat[i][a], sim_mat[i][b])\n",
    "\n",
    "                # S[a][i] ← max{S[i][a], S[i][b]} ;\n",
    "                sai = max(sim_mat[i][a], sim_mat[i][b])\n",
    "\n",
    "                # insérer (avec tri) S[i][a] dans P[i] et S[a][i] dans P[a] ;\n",
    "                P[i].put((-sia, a))\n",
    "                P[a].put((-sai, i))\n",
    "\n",
    "    return dendrogramme"
   ],
   "metadata": {
    "collapsed": false,
    "ExecuteTime": {
     "end_time": "2023-11-09T09:12:23.156015178Z",
     "start_time": "2023-11-09T09:12:23.155612631Z"
    }
   },
   "id": "4266732092798771"
  },
  {
   "cell_type": "code",
   "execution_count": 23,
   "outputs": [
    {
     "name": "stdout",
     "output_type": "stream",
     "text": [
      "[[0, 1], [2, 3], [4, 5], [4, 7], [2, 4], [2, 6], [0, 2], [0, 8]]\n"
     ]
    }
   ],
   "source": [
    "# test de l'algorithme de clustering hiérarchique agglomératif\n",
    "dendrogramme = clustering_hierarchique_agglomeratif(sim_mat)\n",
    "print(dendrogramme)"
   ],
   "metadata": {
    "collapsed": false,
    "ExecuteTime": {
     "end_time": "2023-11-09T09:12:23.156533935Z",
     "start_time": "2023-11-09T09:12:23.155948023Z"
    }
   },
   "id": "73578696225dd6d0"
  },
  {
   "cell_type": "code",
   "execution_count": 24,
   "outputs": [
    {
     "data": {
      "text/plain": "<Figure size 640x480 with 1 Axes>",
      "image/png": "[encoded data removed]"
     },
     "metadata": {},
     "output_type": "display_data"
    }
   ],
   "source": [
    "#                                                   #\n",
    "#           Fonction d'affichage faite par          #\n",
    "#                   Romain Bossy                    #\n",
    "#                                                   #\n",
    "\n",
    "N = len(sim_mat)\n",
    "\n",
    "# Dessine la fusion de deux ensemble\n",
    "def fusion(oxa, oxb, s, c, oya=10, oyb=10):\n",
    "    xa = [oxa, oxa]\n",
    "    xb = [oxb, oxb]\n",
    "\n",
    "    ya = [oya, s]\n",
    "    yb = [oyb, s]\n",
    "\n",
    "    xl = [oxa, oxb]\n",
    "    yl = [s, s]\n",
    "\n",
    "    plt.plot(xa, ya, color=c)\n",
    "    plt.plot(xb, yb, color=c)\n",
    "    plt.plot(xl, yl, color=c)\n",
    "\n",
    "\n",
    "# Dessine le dendogramme à partir de sa liste des fusions\n",
    "def affichage_dendrogramme(L):\n",
    "    nums = [i for i in range(N)]\n",
    "    ens = []\n",
    "    sims = []\n",
    "    operations = []\n",
    "\n",
    "    # Constructions de la liste des opérations de dessin que à faire\n",
    "    for f in L:\n",
    "        if f[0] in nums and f[1] in nums:\n",
    "            ens.append(f.copy())\n",
    "            sims.append(sim_mat[f[0], f[1]])\n",
    "            operations.append((\"Ajout ensemble\", f.copy()))\n",
    "        elif f[1] in nums and not f[0] in nums:\n",
    "            i = 0\n",
    "            while not f[0] in ens[i]:\n",
    "                i += 1\n",
    "    \n",
    "            nouvelle_sim = min(sims[i] - 0.25, sim_mat[f[0], f[1]])\n",
    "            operations.append((\"Ajout élément\", ens[i].copy(), f[1], sims[i], nouvelle_sim))\n",
    "            sims[i] = nouvelle_sim\n",
    "            ens[i].append(f[1])\n",
    "        elif f[0] in nums and not f[1] in nums:\n",
    "            i = 0\n",
    "            while not f[1] in ens[i]:\n",
    "                i += 1\n",
    "    \n",
    "            nouvelle_sim = min(sims[i] - 0.25, sim_mat[f[0], f[1]])\n",
    "            operations.append((\"Ajout élément\", ens[i].copy(), f[0], sims[i], nouvelle_sim))\n",
    "            sims[i] = nouvelle_sim\n",
    "            ens[i].append(f[0])\n",
    "        else:\n",
    "            i = 0\n",
    "            while not f[0] in ens[i]:\n",
    "                i += 1\n",
    "    \n",
    "            j = 0\n",
    "            while not f[1] in ens[j]:\n",
    "                j += 1\n",
    "            \n",
    "            nouvelle_sim = min(sims[i], sims[j]) - 1\n",
    "            gauche = (max(ens[i]) + min(ens[i])) / 2\n",
    "            droite = (max(ens[j]) + min(ens[j])) / 2\n",
    "            operations.append((\"Fusion\", ens[i].copy(), ens[j].copy(), sims[i], sims[j], nouvelle_sim, gauche, droite))\n",
    "            sims[i] = nouvelle_sim\n",
    "            ens[i].extend(ens[j])\n",
    "            ens.pop(j)\n",
    "            sims.pop(j)\n",
    "            \n",
    "        if f[0] in nums:\n",
    "            nums.remove(f[0])\n",
    "        if f[1] in nums:\n",
    "            nums.remove(f[1])\n",
    "    \n",
    "    positions_x = {}\n",
    "    for i in range(len(ens[0])):\n",
    "        positions_x[ens[0][i]] = i \n",
    "\n",
    "    # Dessin du dendogramme à partir des opérations de dessin déterminées plus tôt\n",
    "    for op in operations:\n",
    "        type = op[0]\n",
    "        if type == \"Ajout ensemble\":\n",
    "            e = op[1]\n",
    "            fusion(positions_x[e[0]], positions_x[e[1]], sim_mat[e[0], e[1]], 'red')\n",
    "        elif type == \"Ajout élément\":\n",
    "            pos = []\n",
    "            for i in range(len(op[1])):\n",
    "                pos.append(positions_x[op[1][i]])\n",
    "            \n",
    "            a = sum(pos) / float(len(pos))\n",
    "            b = op[2]\n",
    "            fusion(a, positions_x[b], op[4], 'blue', oya=op[3])\n",
    "        elif type == \"Fusion\":\n",
    "            pos = []\n",
    "            for i in range(len(op[1])):\n",
    "                pos.append(positions_x[op[1][i]])\n",
    "            a = sum(pos) / float(len(pos))\n",
    "\n",
    "            pos = []\n",
    "            for i in range(len(op[2])):\n",
    "                pos.append(positions_x[op[2][i]])\n",
    "            b = sum(pos) / float(len(pos))\n",
    "            \n",
    "            fusion(a, b, op[5], 'green', oya=op[3], oyb=op[4])\n",
    "\n",
    "    # Les labels des classes\n",
    "    labels = []\n",
    "    for i in positions_x.keys():\n",
    "        labels.insert(positions_x[i], str(i))\n",
    "    \n",
    "    plt.xticks(list(positions_x.values()), labels)\n",
    "        \n",
    "    # On supprime l'axe des y et on l'inverse\n",
    "    plt.gca().axes.get_yaxis().set_visible(False)\n",
    "    plt.gca().invert_yaxis()\n",
    "    plt.xlabel(\"Classes\")\n",
    "    plt.show()\n",
    "\n",
    "affichage_dendrogramme(dendrogramme)"
   ],
   "metadata": {
    "collapsed": false,
    "ExecuteTime": {
     "end_time": "2023-11-09T09:12:23.172175538Z",
     "start_time": "2023-11-09T09:12:23.156088802Z"
    }
   },
   "id": "1e0e87e71358fa00"
  },
  {
   "cell_type": "code",
   "execution_count": 25,
   "outputs": [
    {
     "data": {
      "text/plain": "<Figure size 640x480 with 1 Axes>",
      "image/png": "[encoded data removed]"
     },
     "metadata": {},
     "output_type": "display_data"
    }
   ],
   "source": [
    "# maintenanat on va utiliser la fonction de scipy pour comparer les résultats\n",
    "linkage_matrix = linkage(sim_mat, 'single') # Elle est composé de N-1 lignes et 4 colonnes (i, j, d, n) avec i et j les indices des clusters fusionnés, d la distance entre les clusters et n le nombre d'éléments dans le cluster\n",
    "dendrogram(linkage_matrix, orientation='top')\n",
    "plt.title('Dendrogramme')\n",
    "plt.xlabel('Indice de l\\'échantillon')\n",
    "plt.show()"
   ],
   "metadata": {
    "collapsed": false,
    "ExecuteTime": {
     "end_time": "2023-11-09T09:12:23.245582553Z",
     "start_time": "2023-11-09T09:12:23.180274366Z"
    }
   },
   "id": "23a0df0362aaa0dd"
  },
  {
   "cell_type": "markdown",
   "source": [
    "# Conclusion :\n",
    "# On remarque que les deux dendrogrammes sont identiques, ce qui signifie que notre implémentation de l'algorithme de clustering hiérarchique agglomératif est correcte."
   ],
   "metadata": {
    "collapsed": false
   },
   "id": "34a6e0e178f74469"
  }
 ],
 "metadata": {
  "kernelspec": {
   "display_name": "Python 3",
   "language": "python",
   "name": "python3"
  },
  "language_info": {
   "codemirror_mode": {
    "name": "ipython",
    "version": 2
   },
   "file_extension": ".py",
   "mimetype": "text/x-python",
   "name": "python",
   "nbconvert_exporter": "python",
   "pygments_lexer": "ipython2",
   "version": "2.7.6"
  }
 },
 "nbformat": 4,
 "nbformat_minor": 5
}
