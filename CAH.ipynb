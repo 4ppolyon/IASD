{
 "cells": [
  {
   "cell_type": "code",
   "execution_count": 425,
   "outputs": [],
   "source": [
    "import numpy as np\n",
    "from queue import PriorityQueue\n",
    "from scipy.cluster.hierarchy import dendrogram, linkage\n",
    "import matplotlib.pyplot as plt\n",
    "\n",
    "# matrice de similarité\n",
    "S = np.array([      [10, 6, 0, 0, 0, 0, 0, 0, 0],\n",
    "                    [6, 10, 0, 0, 0, 0, 0, 0, 0],\n",
    "                    [0, 0, 10, 5, 3, 3, 1, 1, 0],\n",
    "                    [0, 0, 5, 10, 1, 2, 1, 1, 0],\n",
    "                    [0, 0, 3, 1, 10, 4, 1, 2, 0],\n",
    "                    [0, 0, 3, 2, 4, 10, 1, 4, 0],\n",
    "                    [0, 0, 1, 1, 1, 1, 10, 1, 0],\n",
    "                    [0, 0, 1, 1, 2, 4, 1, 10, 0],\n",
    "                    [0, 0, 0, 0, 0, 0, 0, 0, 10]])\n",
    "N = S.shape[0]"
   ],
   "metadata": {
    "collapsed": false,
    "ExecuteTime": {
     "end_time": "2023-11-17T15:44:56.204397355Z",
     "start_time": "2023-11-17T15:44:56.195696472Z"
    }
   },
   "id": "6f38db42ebca1430"
  },
  {
   "cell_type": "code",
   "execution_count": 426,
   "outputs": [],
   "source": [
    "#                                                   #\n",
    "#           Fonction d'affichage faite par          #\n",
    "#                   Elsa Bernet                     #\n",
    "#                                                   #\n",
    "\n",
    "#Utilisation de S, sinon décommenter \"Autre méthode\"\n",
    "def creer_mat_link(fusions):\n",
    "    #retourne Z:\n",
    "    #1ERE COL = 1ere classe à fusionner\n",
    "    #2IEME COL = 2nde classe à fusionner\n",
    "    #3IEME COL = distance (on prendra 10-similarité car pas axe commence obligatoirement à 0)\n",
    "    #4IEME COL = somme totale des classes fusionnées\n",
    "\n",
    "    Z = np.zeros((N-1,4))\n",
    "    ######Autre méthode similar = np.copy(sim_mat)\n",
    "    ######Autre méthode I = np.ones(N)\n",
    "\n",
    "    nb_cl = N-1\n",
    "    nouv_cl = [[i, 1] for i in range(N)]\n",
    "    \n",
    "    for i in range(len(fusions)):\n",
    "        ##1ere et 2ieme\n",
    "\n",
    "        cl_fus1 = fusions[i][0]\n",
    "        cl_fus2 = fusions[i][1]\n",
    "\n",
    "        #On pourrait aussi faire en sorte que la classe la \"plus petite\" soit dans la 1ere colonne\n",
    "        #et cela donnerait un dendrogramme similaire à celui rendu par dendrogram(sim_mat,method='single')\n",
    "        #Cette méthode permet d'avoir les classes rangées dans l'ordre croissant comme vu en cours\n",
    "        Z[i][0] = nouv_cl[cl_fus1][0] if nouv_cl[cl_fus1][0] != cl_fus1 else cl_fus1\n",
    "        Z[i][1] = nouv_cl[cl_fus2][0] if nouv_cl[cl_fus2][0] != cl_fus2 else cl_fus2\n",
    "\n",
    "        ##3ieme\n",
    "        #Utilise la distance donc comme je n'arrive pa sà avoir un axe inversé je prend 10 (max sim)- similarité entre classes\n",
    "        ######Autre méthode Z[i][2] = 10-similar[cl_fus1][cl_fus2]\n",
    "        Z[i][2] = 10-S[cl_fus1][cl_fus2]\n",
    "        #Pour différencier vu que la similarité est parfois identique. -0.1 pour que les couleurs restes différentes et qu'on puisse \"mieux\" voir\n",
    "        if (Z[i][2] == Z[i-1][2]):\n",
    "            Z[i-1][2] -= 0.1\n",
    "\n",
    "        ##4ieme\n",
    "        nb_cl += 1\n",
    "        nouv_cl[cl_fus1][0] = nb_cl\n",
    "        nouv_cl[cl_fus1][1] = nouv_cl[cl_fus1][1] + nouv_cl[cl_fus2][1]\n",
    "\n",
    "        Z[i][3] = nouv_cl[cl_fus1][1]\n",
    "\n",
    "        ######Autre méthode Méthode du lien unique pour recalculer la matrice et avoir la bonne similarité\n",
    "        ######Autre méthode I[cl_fus2] = 0\n",
    "        ######Autre méthode for j in range(N):\n",
    "        ######Autre méthode     if (I[j]==1 and j != cl_fus1 and j!= cl_fus2):\n",
    "        ######Autre méthode         similar[j][cl_fus1] = max(similar[j][cl_fus1], similar[j][cl_fus2])\n",
    "        ######Autre méthode         similar[cl_fus1][j] = max(similar[j][cl_fus1], similar[j][cl_fus2])\n",
    "    return Z"
   ],
   "metadata": {
    "collapsed": false,
    "ExecuteTime": {
     "end_time": "2023-11-17T15:44:56.242836498Z",
     "start_time": "2023-11-17T15:44:56.202135111Z"
    }
   },
   "id": "563126e1ca80cf75"
  },
  {
   "cell_type": "markdown",
   "source": [
    "# Première implémentation de l'algorithme de clustering hiérarchique agglomératif"
   ],
   "metadata": {
    "collapsed": false
   },
   "id": "56115a1bd19fa743"
  },
  {
   "cell_type": "code",
   "execution_count": 427,
   "outputs": [],
   "source": [
    "# génération du tableau de file de priorité sans les valeurs de la diagonale\n",
    "def generate_priority_queue(sim_mat): # O(N²)\n",
    "    P = []\n",
    "    for i in range(N):\n",
    "        P.append(PriorityQueue())\n",
    "    for i in range(N):\n",
    "        for j in range(N):\n",
    "            if i != j:\n",
    "                P[i].put((-sim_mat[i][j], j)) # on met les valeurs de la matrice de similarité dans la file de priorité en négatif pour avoir une file de priorité qui trie les valeurs par ordre croissant (spécificité de la file de priorité de PriorityQueue)\n",
    "    return P\n",
    "\n",
    "# implémentation de l'algorithme de clustering hiérarchique agglomératif\n",
    "def clustering_hierarchique_agglomeratif(sim_mat): # O(N³)\n",
    "    \n",
    "    # initialisation de la liste des classes actives\n",
    "    I = [1 for _ in range(N)]\n",
    "\n",
    "    # initialisation du dendrogramme comme un ndarray de taille N-1\n",
    "    dendrogramme = [[0, 0] for _ in range(N - 1)]\n",
    "\n",
    "    # initialisation du tableau de file de priorité\n",
    "    P = generate_priority_queue(sim_mat)\n",
    "    temp_queue = PriorityQueue()\n",
    "    # pour chaque itération k ∈ {1, ..., N − 1} faire\n",
    "    for k in range(N - 1): # O(N-1)\n",
    "        # a = argmax P[i].MAX.sim ; avec i ∈ {1, . . . , N} et I[i] = 1 ;\n",
    "        a = 0\n",
    "        max_sim = 1\n",
    "        for i in range(N):  # O(N)\n",
    "            if I[i] == 1 and P[i].queue[0][0] < max_sim:  # si la classe i est active et si la classe i est plus proche de la classe a que la classe a ne l'est d'elle-même\n",
    "                max_sim = P[i].queue[0][0]\n",
    "                a = i\n",
    "        # b = P[a].MAX.index ;\n",
    "        b = P[a].queue[0][1]\n",
    "        \n",
    "        dendrogramme[k][0] = a\n",
    "        dendrogramme[k][1] = b\n",
    "        \n",
    "        # I[b] = 0 ;\n",
    "        I[b] = 0\n",
    "\n",
    "        # supprimer S[a][b] de P[a] ;\n",
    "        P[a].get()\n",
    "\n",
    "        for i in range(N):          # O(N)\n",
    "            if I[i] == 1 and i != a:\n",
    "                # supprimer S[i][a] de P[i] ;\n",
    "                for j in range(P[i].qsize()): # O(N) \n",
    "                    if P[i].queue[0][1] != a and P[i].queue[0][1] != b:\n",
    "                        temp_queue.put(P[i].queue[0])\n",
    "                    P[i].get()\n",
    "                # remettre les valeurs dans la file de priorité\n",
    "                for j in range(temp_queue.qsize()): # O(N) \n",
    "                    P[i].put(temp_queue.queue[0])\n",
    "                    temp_queue.get()\n",
    "\n",
    "                # supprimer S[a][i] de P[a] ;\n",
    "                for j in range(P[a].qsize()): # O(N) \n",
    "                    if P[a].queue[0][1] != i:\n",
    "                        temp_queue.put(P[a].queue[0])\n",
    "                    P[a].get()\n",
    "                # remettre les valeurs dans la file de priorité\n",
    "                for j in range(temp_queue.qsize()): # O(N) \n",
    "                    P[a].put(temp_queue.queue[0])\n",
    "                    temp_queue.get()\n",
    "\n",
    "                # S[i][a] ← max{S[i][a], S[i][b]} ; # Méthode du lien unique\n",
    "                sia = max(sim_mat[i][a], sim_mat[i][b])\n",
    "\n",
    "                # insérer (avec tri) S[i][a] dans P[i] et S[a][i] dans P[a] ;\n",
    "                P[i].put((-sia, a))\n",
    "                P[a].put((-sia, i))\n",
    "    print(dendrogramme)\n",
    "    matrix_link = creer_mat_link(dendrogramme.copy())\n",
    "    dendrogram(matrix_link, orientation='top')\n",
    "    return dendrogramme"
   ],
   "metadata": {
    "collapsed": false,
    "ExecuteTime": {
     "end_time": "2023-11-17T15:44:56.242962629Z",
     "start_time": "2023-11-17T15:44:56.242762604Z"
    }
   },
   "id": "4266732092798771"
  },
  {
   "cell_type": "markdown",
   "source": [
    "# Deuxième implémentation de l'algorithme de clustering hiérarchique agglomératif"
   ],
   "metadata": {
    "collapsed": false
   },
   "id": "46d7b76060f50930"
  },
  {
   "cell_type": "code",
   "execution_count": 428,
   "outputs": [],
   "source": [
    "# on degage les valeur de la diagonale\n",
    "def suppr_diagonale (sim_mat): # O(N²)\n",
    "    N = sim_mat.shape[0]\n",
    "    P = np.zeros((N, N))\n",
    "    for i in range(N):\n",
    "        for j in range(N):\n",
    "            if i != j:\n",
    "                P[i][j] = sim_mat[i][j]\n",
    "    return P\n",
    "\n",
    "# fonction qui retourne un tableau de la forme [P[i].sim, P[i].index]\n",
    "def tab_des_max_val(sim_mat): # O(N)\n",
    "    N = sim_mat.shape[0]\n",
    "    tab = []\n",
    "    for i in range(N):\n",
    "        tab.append([max(sim_mat[i]), sim_mat[i].argmax()])\n",
    "    return tab\n",
    "\n",
    "def clustering_hierarchique_agglomeratif2(sim_mat): # O(N²)\n",
    "    P = suppr_diagonale(sim_mat) # fonction qui supprime la diagonale de la matrice de similarité\n",
    "    P = tab_des_max_val(P) # fonction qui retourne un tableau de la forme P = [P[i].sim, P[i].index]\n",
    "    \n",
    "    I = [i for i in range(N)]\n",
    "    dendrogramme = [[0, 0] for _ in range(N - 1)]\n",
    "    \n",
    "    for k in range(N - 1): # O(N-1)\n",
    "        a = 0\n",
    "        maxi = 0\n",
    "        # a = argmax de P[i][0] quand i:I[i]=i\n",
    "        for i in range(N): # O(N)\n",
    "            if I[i] == i and P[i][0] > maxi:\n",
    "                maxi = P[i][0]\n",
    "                a = i\n",
    "        b = I[P[a][1]]\n",
    "        P[a][0] = -1\n",
    "        dendrogramme[k][0] = a\n",
    "        dendrogramme[k][1] = b\n",
    "        for i in range(N): # O(N)\n",
    "            if I[i] == i and i != a and i != b:\n",
    "                sim_mat[i][a] = max(sim_mat[i][a], sim_mat[i][b])\n",
    "                sim_mat[a][i] = max(sim_mat[i][a], sim_mat[i][b])\n",
    "            if I[i] == b:\n",
    "                I[i] = a\n",
    "            if I[i] == i and i != a and sim_mat[a][i] > P[a][0]:\n",
    "                P[a][0] = sim_mat[a][i]\n",
    "                P[a][1] = i\n",
    "    print(dendrogramme)\n",
    "    matrix_link = creer_mat_link(dendrogramme)\n",
    "    dendrogram(matrix_link, orientation='top')\n",
    "    return dendrogramme"
   ],
   "metadata": {
    "collapsed": false,
    "ExecuteTime": {
     "end_time": "2023-11-17T15:44:56.243159752Z",
     "start_time": "2023-11-17T15:44:56.242904895Z"
    }
   },
   "id": "def74bada46957e4"
  },
  {
   "cell_type": "markdown",
   "source": [
    "# Comparaison des deux implémentations"
   ],
   "metadata": {
    "collapsed": false
   },
   "id": "dad85dd984e959d5"
  },
  {
   "cell_type": "code",
   "execution_count": 429,
   "outputs": [
    {
     "name": "stdout",
     "output_type": "stream",
     "text": [
      "[[0, 1], [2, 3], [4, 5], [4, 7], [2, 4], [2, 6], [0, 2], [0, 8]]\n"
     ]
    },
    {
     "data": {
      "text/plain": "<Figure size 640x480 with 1 Axes>",
      "image/png": "[encoded data removed]"
     },
     "metadata": {},
     "output_type": "display_data"
    }
   ],
   "source": [
    "dendrogramme2 = clustering_hierarchique_agglomeratif2(S)"
   ],
   "metadata": {
    "collapsed": false,
    "ExecuteTime": {
     "end_time": "2023-11-17T15:44:56.283951200Z",
     "start_time": "2023-11-17T15:44:56.242932381Z"
    }
   },
   "id": "37c1b76cf2682fef"
  },
  {
   "cell_type": "code",
   "execution_count": 430,
   "outputs": [
    {
     "name": "stdout",
     "output_type": "stream",
     "text": [
      "[[0, 1], [2, 3], [4, 5], [4, 7], [2, 4], [2, 6], [0, 2], [0, 8]]\n"
     ]
    },
    {
     "data": {
      "text/plain": "<Figure size 640x480 with 1 Axes>",
      "image/png": "[encoded data removed]"
     },
     "metadata": {},
     "output_type": "display_data"
    }
   ],
   "source": [
    "dendrogramme1 = clustering_hierarchique_agglomeratif(S)"
   ],
   "metadata": {
    "collapsed": false,
    "ExecuteTime": {
     "end_time": "2023-11-17T15:44:56.354680300Z",
     "start_time": "2023-11-17T15:44:56.294195902Z"
    }
   },
   "id": "6dd0692ef9f7900a"
  },
  {
   "cell_type": "markdown",
   "source": [
    "# Remarque :\n",
    "### On remarque que les deux dendrogrammes sont identiques, ce qui signifie que notre implémentation de l'algorithme de clustering hiérarchique agglomératif donne les memes résultats."
   ],
   "metadata": {
    "collapsed": false
   },
   "id": "2928ec5367bf761"
  },
  {
   "cell_type": "code",
   "execution_count": 431,
   "outputs": [
    {
     "name": "stdout",
     "output_type": "stream",
     "text": [
      "True\n"
     ]
    }
   ],
   "source": [
    "def compare_dendrogramme(dendrogramme1, dendrogramme2): # Verification que les deux dendrogrammes sont identiques\n",
    "    N = len(dendrogramme1)\n",
    "    for i in range(N):\n",
    "        if dendrogramme1[i][0] != dendrogramme2[i][0] or dendrogramme1[i][1] != dendrogramme2[i][1]:\n",
    "            return False\n",
    "    return True\n",
    "\n",
    "print(compare_dendrogramme(dendrogramme1, dendrogramme2))"
   ],
   "metadata": {
    "collapsed": false,
    "ExecuteTime": {
     "end_time": "2023-11-17T15:44:56.393428131Z",
     "start_time": "2023-11-17T15:44:56.352215755Z"
    }
   },
   "id": "1a612bb4e26bb2b"
  },
  {
   "cell_type": "markdown",
   "source": [
    "# Remarque :\n",
    "### Beaucoup d'optimisation peuvent etre ajouter au code pour empécher d'avoir à faire N fois la verification de la condition I[i] == 1. On sait simplement que l'on a un nombre de classes actives qui diminue à chaque itération. On peut donc stocker le nombre de classes actives dans une variable et un tableau des indexs des classes activent. On supprime l'index de la classe qui a été fusionné et on décrémente le nombre de classes actives."
   ],
   "metadata": {
    "collapsed": false
   },
   "id": "eb4843844d7c506e"
  },
  {
   "cell_type": "markdown",
   "source": [
    "# Comparaison avec la fonction de scipy"
   ],
   "metadata": {
    "collapsed": false
   },
   "id": "cb3862ecf0049ab0"
  },
  {
   "cell_type": "code",
   "execution_count": 432,
   "outputs": [
    {
     "data": {
      "text/plain": "<Figure size 640x480 with 1 Axes>",
      "image/png": "[encoded data removed]"
     },
     "metadata": {},
     "output_type": "display_data"
    }
   ],
   "source": [
    "# maintenant, on va utiliser la fonction de scipy pour comparer les résultats\n",
    "linkage_matrix = linkage(S, 'single') # Elle est composé de N-1 lignes et 4 colonnes (i, j, d, n) avec i et j les indices des clusters fusionnés, d la distance entre les clusters et n le nombre d'éléments dans le cluster\n",
    "dendrogram(linkage_matrix, orientation='top')\n",
    "plt.title('Dendrogramme')\n",
    "plt.xlabel('Indice de l\\'échantillon')\n",
    "plt.show()"
   ],
   "metadata": {
    "collapsed": false,
    "ExecuteTime": {
     "end_time": "2023-11-17T15:44:56.434703941Z",
     "start_time": "2023-11-17T15:44:56.392732095Z"
    }
   },
   "id": "5a49c5cef1bf8e04"
  },
  {
   "cell_type": "markdown",
   "source": [
    "# Remarque :\n",
    "### On remarque que le dendrogramme de la fonction de scipy est similaire (à l'ordre des indices de l'axe X pres) à notre implémentation de l'algorithme de clustering hiérarchique agglomératif. Donc notre implémentation est correcte.\n",
    "\n",
    "# Conclusion sur la complexité des deux algorithmes :\n",
    "### Notre implémentation de l'algorithme de clustering hiérarchique agglomératif est correcte, le premier est en O(N³) et le deuxième est en O(N²). On remarque que le deuxieme est plus rapide que le premier."
   ],
   "metadata": {
    "collapsed": false
   },
   "id": "57b99500ee24a55b"
  }
 ],
 "metadata": {
  "kernelspec": {
   "display_name": "Python 3",
   "language": "python",
   "name": "python3"
  },
  "language_info": {
   "codemirror_mode": {
    "name": "ipython",
    "version": 2
   },
   "file_extension": ".py",
   "mimetype": "text/x-python",
   "name": "python",
   "nbconvert_exporter": "python",
   "pygments_lexer": "ipython2",
   "version": "2.7.6"
  }
 },
 "nbformat": 4,
 "nbformat_minor": 5
}
