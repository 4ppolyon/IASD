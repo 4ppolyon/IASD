{
 "cells": [
  {
   "cell_type": "code",
   "execution_count": 76,
   "outputs": [],
   "source": [
    "import numpy as np\n",
    "from queue import PriorityQueue\n",
    "from scipy.cluster.hierarchy import dendrogram, linkage\n",
    "import matplotlib.pyplot as plt\n",
    "\n",
    "#matrice de similarité\n",
    "sim_mat = np.array ([[ 10, 6, 0, 0, 0, 0, 0, 0, 0 ],\n",
    "[ 6, 10, 0, 0, 0, 0, 0, 0, 0 ],\n",
    "[ 0, 0, 10, 5, 3, 3, 1, 1, 0 ],\n",
    "[ 0, 0, 5, 10, 1, 2, 1, 1, 0 ],\n",
    "[ 0, 0, 3, 1, 10, 4, 1, 2, 0 ],\n",
    "[ 0, 0, 3, 2, 4, 10, 1, 4, 0 ],\n",
    "[ 0, 0, 1, 1, 1, 1, 10, 1, 0 ],\n",
    "[ 0, 0, 1, 1, 2, 4, 1, 10, 0 ],\n",
    "[ 0, 0, 0, 0, 0, 0, 0, 0, 10 ]])\n"
   ],
   "metadata": {
    "collapsed": false,
    "ExecuteTime": {
     "end_time": "2023-11-06T16:23:25.061085802Z",
     "start_time": "2023-11-06T16:23:25.019966083Z"
    }
   },
   "id": "6f38db42ebca1430"
  },
  {
   "cell_type": "code",
   "execution_count": 77,
   "outputs": [],
   "source": [
    "# implémentation de l'algorithme de clustering hiérarchique agglomératif\n",
    "def clustering_hierarchique_agglomeratif(sim_mat):\n",
    "    \n",
    "    # Taille de la matrice de similarité\n",
    "    N = sim_mat.shape[0]\n",
    "    \n",
    "    # initialisation de la liste des classes actives\n",
    "    I = [1 for i in range(N)]\n",
    "    \n",
    "    # initialisation des files de priorité\n",
    "    P = []\n",
    "    for i in range(N):\n",
    "        P.append(PriorityQueue())\n",
    "    \n",
    "    # pour i ∈ {1, . . . , N} faire\n",
    "    for i in range(N):\n",
    "        P.append(PriorityQueue())\n",
    "        for j in range(N):\n",
    "            if i != j:\n",
    "                P[i].put((-sim_mat[i][j], j))\n",
    "    \n",
    "    # initialisation du dendrogramme\n",
    "    dendrogramme = []\n",
    "    \n",
    "    # Construction du dendrogramme\n",
    "    # pour chaque itération k ∈ {1, . . . , N − 1} faire\n",
    "    for k in range(N - 1):\n",
    "        # a = argmax P[i].MAX.sim ; avec i ∈ {1, . . . , N} et I[i] = 1 ;\n",
    "        a = 0\n",
    "        max_sim = -1\n",
    "        for i in range(N): # on cherche la classe i la plus proche de la classe a\n",
    "            if I[i] == 1 and P[i].queue[0][0] > max_sim: # si la classe i est active et si la classe i est plus proche de la classe a que la classe a ne l'est d'elle-même\n",
    "                max_sim = P[i].queue[0][0]\n",
    "                a = i\n",
    "        \n",
    "        # b = P[a].MAX.index ;\n",
    "        b = P[a].queue[0][1]\n",
    "        \n",
    "        # Ajout de (a, b) à l’ensemble des fusions\n",
    "        dendrogramme.append([a, b])\n",
    "        \n",
    "        # I[b] = 0 ;\n",
    "        I[b] = 0\n",
    "        \n",
    "        # supprimer S[a][b] de P[a] ;\n",
    "        P[a].get()\n",
    "        \n",
    "        # pour i tel que I[i] = 1 et i != a faire\n",
    "        for i in range(N):\n",
    "            if I[i] == 1 and i != a:\n",
    "                \n",
    "                # si S[i][a] ∈ P[i] alors\n",
    "                if P[i].not_empty and P[i].queue[0][1] == a:\n",
    "                    # supprimer S[i][a] de P[i] ;\n",
    "                    P[i].get()\n",
    "                if P[i].not_empty and P[a].queue[0][1] == i:\n",
    "                    # supprimer S[a][i] de P[a] ;\n",
    "                    P[a].get()\n",
    "                \n",
    "                if P[i].not_empty and P[i].queue[0][1] == b:\n",
    "                    # supprimer S[i][b] de P[i] ;\n",
    "                    P[i].get()\n",
    "                \n",
    "                # S[i][a] ← max{S[i][a], S[i][b]} ; # Méthode du lien unique\n",
    "                sim = max(sim_mat[i][a], sim_mat[i][b])\n",
    "                \n",
    "                # S[a][i] ← max{S[i][a], S[i][b]} ;\n",
    "                sim = max(sim_mat[i][a], sim_mat[i][b])\n",
    "                \n",
    "                # insérer (avec tri) S[i][a] dans P[i] et S[a][i] dans P[a] ;\n",
    "                P[i].put((-sim, a))\n",
    "                P[a].put((-sim, i))\n",
    "                \n",
    "    return dendrogramme"
   ],
   "metadata": {
    "collapsed": false,
    "ExecuteTime": {
     "end_time": "2023-11-06T16:23:25.063024971Z",
     "start_time": "2023-11-06T16:23:25.060948746Z"
    }
   },
   "id": "4a7c7b4cb42fa557"
  },
  {
   "cell_type": "code",
   "execution_count": 78,
   "outputs": [
    {
     "name": "stdout",
     "output_type": "stream",
     "text": [
      "[[8, 0], [0, 1], [8, 0], [8, 2], [0, 2], [0, 3], [0, 5], [0, 4]]\n"
     ]
    }
   ],
   "source": [
    "# test de l'algorithme de clustering hiérarchique agglomératif\n",
    "dendrogramme = clustering_hierarchique_agglomeratif(sim_mat)\n",
    "print(dendrogramme)"
   ],
   "metadata": {
    "collapsed": false,
    "ExecuteTime": {
     "end_time": "2023-11-06T16:23:25.063338252Z",
     "start_time": "2023-11-06T16:23:25.062885137Z"
    }
   },
   "id": "5907c9b4771ab739"
  },
  {
   "cell_type": "code",
   "execution_count": 79,
   "outputs": [
    {
     "data": {
      "text/plain": "<Figure size 640x480 with 1 Axes>",
      "image/png": "[encoded data removed]"
     },
     "metadata": {},
     "output_type": "display_data"
    }
   ],
   "source": [
    "# Convertir votre dendrogramme en une matrice de lien\n",
    "linkage_matrix = linkage(dendrogramme, 'single')\n",
    "\n",
    "# Afficher le dendrogramme\n",
    "dendrogram(linkage_matrix, orientation='top')\n",
    "plt.title('Dendrogramme')\n",
    "plt.xlabel('Indice de l\\'échantillon')\n",
    "plt.show()"
   ],
   "metadata": {
    "collapsed": false,
    "ExecuteTime": {
     "end_time": "2023-11-06T16:23:25.170418551Z",
     "start_time": "2023-11-06T16:23:25.063117511Z"
    }
   },
   "id": "e4301e4c9b9d2bab"
  }
 ],
 "metadata": {
  "kernelspec": {
   "display_name": "Python 3",
   "language": "python",
   "name": "python3"
  },
  "language_info": {
   "codemirror_mode": {
    "name": "ipython",
    "version": 2
   },
   "file_extension": ".py",
   "mimetype": "text/x-python",
   "name": "python",
   "nbconvert_exporter": "python",
   "pygments_lexer": "ipython2",
   "version": "2.7.6"
  }
 },
 "nbformat": 4,
 "nbformat_minor": 5
}
