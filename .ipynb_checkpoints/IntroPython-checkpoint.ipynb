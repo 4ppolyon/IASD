{
 "cells": [
  {
   "cell_type": "markdown",
   "metadata": {},
   "source": [
    "The goal of this practical session is to introduce Python and Scikit-Learn, a library for running different machine learning models and use them for solving AI/data science problems."
   ]
  },
  {
   "cell_type": "code",
   "execution_count": null,
   "outputs": [],
   "source": [
    "print(\"Hello world!\")"
   ],
   "metadata": {
    "collapsed": false,
    "is_executing": true
   }
  },
  {
   "cell_type": "markdown",
   "metadata": {},
   "source": [
    "## Linear regression and k-NN: doing it ourselves\n",
    "\n",
    "We are going to write a first program to compute the coefficients of a regression line and a second program to compute the k-nearest neighbours (k-NN) of a given point."
   ]
  },
  {
   "cell_type": "markdown",
   "metadata": {},
   "source": [
    "### Linear regression\n",
    "\n",
    "We'll start with a simple data set:"
   ]
  },
  {
   "cell_type": "code",
   "execution_count": 1,
   "metadata": {},
   "outputs": [
    {
     "data": {
      "text/plain": [
       "<matplotlib.collections.PathCollection at 0x7ff3300b8f10>"
      ]
     },
     "execution_count": 1,
     "metadata": {},
     "output_type": "execute_result"
    },
    {
     "data": {
      "image/png": "[encoded data removed]",
      "text/plain": [
       "<Figure size 432x288 with 1 Axes>"
      ]
     },
     "metadata": {
      "needs_background": "light"
     },
     "output_type": "display_data"
    }
   ],
   "source": [
    "import matplotlib.pyplot as plt\n",
    "import numpy as np\n",
    "\n",
    "rng = np.random.RandomState(42)\n",
    "x = 10 * rng.rand(50)\n",
    "y = 2 * x - 1 + rng.randn(50)\n",
    "plt.scatter(x, y)"
   ]
  },
  {
   "cell_type": "markdown",
   "metadata": {},
   "source": [
    "$\\rightarrow$ Print the values of x and y. What's the type of x and y? What's their relation? What's the level of noise in this relation?\n",
    "\n",
    "x et y sont des nombres rééls. On a y ~ 2x - 1 avec un léger bruit dans le dataset (< 1.0)."
   ]
  },
  {
   "cell_type": "markdown",
   "metadata": {},
   "source": [
    "   \n",
    "We now want to find the relation between x and y solely from the observed points. We can postulate different possible relations (models): linear, polynomial of degree 2, spline, ... and learn the parameters of the models from the data. We'll start here with the most simple model, the linear one, which assumes that the relation takes the form:\n",
    "\n",
    "\\begin{equation*}\n",
    " y = ax + b,\n",
    "\\end{equation*}\n",
    "\n",
    "where $a$ and $b$ are real numbers, respectively called the slope and the intercept (or bias). Learning the model thus amounts to learn the values of $a$ and $b$ from the observed data (we will denote by $\\hat{a}$ and $\\hat{b}$ the values of $a$ and $b$ learned from the observed data).\n",
    "\n",
    "We nevertheless need to guide the learning by stating some properties on the desired line. In linear regression, the property we require is that the line learned should be as close as possible to the obersved data. By \"as close as\", we mean that the sum of squared residuals should be as small as possible (this method is sometimes referred to as OLS for Ordinary Least Square). The residual is defined as the error in approximating y by a linear relation. If we have observed $n$ points (x<sub>i</sub>,y<sub>i</sub>)<sub>$1 \\le i \\le n$</sub>, the sum of residuals amounts to:\n",
    "\n",
    "\\begin{equation*}\n",
    " \\sum_{i=1}^{n}(y_i - a x_i + b)^2.\n",
    "\\end{equation*}\n",
    "\n",
    "The above optimization problem leads to the following solution (we'll see that later in the course) where $\\bar{x}$ and $\\bar{y}$ denote the means of x and y:\n",
    "\n",
    "\\begin{align}\n",
    " \\hat{a} = & \\frac{\\sum_{i=1}^{n}(x_i - \\bar{x}) (y_i - \\bar{y})}{\\sum_{i=1}^{n}(x_i - \\bar{x})^2}, \\\\\n",
    " \\hat{b} = & \\bar{y} - \\hat{a} \\bar{x}.\n",
    "\\end{align}"
   ]
  },
  {
   "cell_type": "markdown",
   "metadata": {},
   "source": [
    "$\\rightarrow$ Write a program that computes the coefficients of the line (slope and intercept) and draw the line together with the orginal data points.\n",
    "\n",
    "$\\rightarrow$ How to use the above results to predict the y value of new points for which we only know x?"
   ]
  },
  {
   "cell_type": "code",
   "execution_count": 38,
   "metadata": {},
   "outputs": [
    {
     "name": "stdout",
     "output_type": "stream",
     "text": [
      "1.802269962716409 -0.12121978305564074\n",
      "[ 7.22926896 18.18565441 13.52423055 10.67206599  0.64185082  1.4000462\n",
      " -0.29896653 17.38064514 11.36591852 11.3984114  -0.26422614 18.01311476\n",
      " 14.97193082  3.8584585   3.66749887  3.59937032  4.24562734  9.18591626\n",
      "  7.9701638   5.80012793 10.75788366  1.60421824  3.736558    5.13103024\n",
      "  8.93392551 16.05975926  2.92146552 10.28822167 11.2099274  -0.7161115\n",
      " 11.51229264  3.94851904  0.26520582 19.5423544  15.69289556 15.98984947\n",
      "  5.17932245  0.65443493 12.77642131  5.81548096  1.22109281  9.26065077\n",
      "  1.16566447 16.66813782  3.36710603 11.74868864  6.14962364  9.73011153\n",
      "  9.40444538  3.21035654]\n",
      "[ 6.62900428 17.01321859 13.07128716 10.66822226  2.69065731  2.6902226\n",
      "  0.92560371 15.48961272 10.71249551 12.6401596   0.24976837 17.35917415\n",
      " 14.88164389  3.70570423  3.15575699  3.18422461  5.36204678  9.33630776\n",
      "  7.66359554  5.12751553 10.90602115  2.39283617  5.14401547  6.48160967\n",
      "  8.09839255 14.02977072  3.47744082  9.14667304 10.55569005  0.71594205\n",
      " 10.82837859  2.95208528  1.05118554 16.98025924 17.2820763  14.4482828\n",
      "  5.36874268  1.63909539 12.21050653  7.8115164   2.07823867  8.80320493\n",
      "  0.4985542  16.26718869  4.54269409 11.81922034  5.49665531  9.25180995\n",
      "  9.73197536  3.21035654]\n"
     ]
    },
    {
     "data": {
      "text/plain": [
       "[<matplotlib.lines.Line2D at 0x7ff2e3f0bca0>]"
      ]
     },
     "execution_count": 38,
     "metadata": {},
     "output_type": "execute_result"
    },
    {
     "data": {
      "image/png": "[encoded data removed]",
      "text/plain": [
       "<Figure size 432x288 with 1 Axes>"
      ]
     },
     "metadata": {
      "needs_background": "light"
     },
     "output_type": "display_data"
    }
   ],
   "source": [
    "x_mean = np.mean(x)\n",
    "y_mean = np.mean(y)\n",
    "\n",
    "numerateur = 0\n",
    "denominateur = 0\n",
    "for i in range(x.shape[0]):\n",
    "    j = x[i] - x_mean\n",
    "    numerateur = j * (y[i] - y_mean)\n",
    "    denominateur = pow(j, 2)\n",
    "    \n",
    "a = numerateur / denominateur\n",
    "    \n",
    "b = y_mean - a * x_mean\n",
    "\n",
    "print(a, b)\n",
    "\n",
    "print(y)\n",
    "print(a * x + b)\n",
    "\n",
    "plt.scatter(x, y)\n",
    "plt.plot(x, a * x + b, color='red')"
   ]
  },
  {
   "cell_type": "markdown",
   "metadata": {},
   "source": [
    "### k-Nearest Neighbours (k-NN) on Iris dataset\n",
    "\n",
    "We are now going to implement a code that can predict a class label of a new example given known class labels of several examples. The examples with the known labels constitute the <span style=\"color:green\">training set</span>.\n",
    "\n",
    "To do so we are going to consider the Iris dataset, which consists of 4-dimensional examples (the dimensions correspond to sepal length, sepal width, petal length and petal width) associated with a class label from three possible iris species. \n",
    "\n",
    "For each new example with unknown class label, the $k$-NN algorithm consists in retrieving the $k$ nearest neighbours in the training set (using in our case their 4-dimensional representation) and in assigning to the new example the majority class in the set of $k$ nearest neigbours.\n",
    "\n",
    "$\\rightarrow$ You are asked to write a code that can take that can predict the class label of examples which are not part of the training set (this set of examples will be referred to as the <span style=\"color:green\">test set</span> in the remainder). The value of $k$ should be an argument of your program, which you can play with. You'll use the standard Eucliden distance to measure the distance between point and select the $k$ closest ones.\n",
    "\n",
    "The Iris dataset can be loaded and split in train/test parts using the following commands:"
   ]
  },
  {
   "cell_type": "code",
   "execution_count": 15,
   "metadata": {},
   "outputs": [],
   "source": [
    "from sklearn.datasets import load_iris\n",
    "dataset = load_iris()\n",
    "X_iris = dataset.data\n",
    "y_iris = dataset.target"
   ]
  },
  {
   "cell_type": "code",
   "execution_count": 48,
   "metadata": {},
   "outputs": [
    {
     "name": "stdout",
     "output_type": "stream",
     "text": [
      "Classe prédite : 0, classe attendue : 0\n",
      "Classe prédite : 1, classe attendue : 1\n",
      "Classe prédite : 1, classe attendue : 1\n",
      "Classe prédite : 0, classe attendue : 0\n",
      "Classe prédite : 2, classe attendue : 2\n",
      "Classe prédite : 1, classe attendue : 1\n",
      "Classe prédite : 2, classe attendue : 2\n",
      "Classe prédite : 0, classe attendue : 0\n",
      "Classe prédite : 0, classe attendue : 0\n",
      "Classe prédite : 2, classe attendue : 2\n",
      "Classe prédite : 1, classe attendue : 1\n",
      "Classe prédite : 0, classe attendue : 0\n",
      "Classe prédite : 2, classe attendue : 2\n",
      "Classe prédite : 1, classe attendue : 1\n",
      "Classe prédite : 1, classe attendue : 1\n",
      "Classe prédite : 0, classe attendue : 0\n",
      "Classe prédite : 1, classe attendue : 1\n",
      "Classe prédite : 1, classe attendue : 1\n",
      "Classe prédite : 0, classe attendue : 0\n",
      "Classe prédite : 0, classe attendue : 0\n",
      "Classe prédite : 1, classe attendue : 1\n",
      "Classe prédite : 1, classe attendue : 1\n",
      "Classe prédite : 1, classe attendue : 1\n",
      "Classe prédite : 0, classe attendue : 0\n",
      "Classe prédite : 2, classe attendue : 2\n",
      "Classe prédite : 1, classe attendue : 1\n",
      "Classe prédite : 0, classe attendue : 0\n",
      "Classe prédite : 0, classe attendue : 0\n",
      "Classe prédite : 1, classe attendue : 1\n",
      "Classe prédite : 2, classe attendue : 2\n",
      "Classe prédite : 1, classe attendue : 1\n",
      "Classe prédite : 2, classe attendue : 2\n",
      "Classe prédite : 1, classe attendue : 1\n",
      "Classe prédite : 2, classe attendue : 2\n",
      "Classe prédite : 2, classe attendue : 2\n",
      "Classe prédite : 0, classe attendue : 0\n",
      "Classe prédite : 1, classe attendue : 1\n",
      "Classe prédite : 0, classe attendue : 0\n"
     ]
    }
   ],
   "source": [
    "from sklearn.model_selection import train_test_split\n",
    "from math import sqrt\n",
    "\n",
    "# Retourne la distance euclidienne entre deux points (4 dims pour chaque point)\n",
    "def euclidian_distance(a, b):\n",
    "    y = 0\n",
    "    for i in range(a.shape[0]):\n",
    "        y += pow(a[i] - b[i], 2)\n",
    "    return sqrt(y)\n",
    "     \n",
    "\n",
    "def find_k_neighbors(k, target, x, y):\n",
    "    neighbors = []\n",
    "    for i in range(k):\n",
    "        # On cherche les k points les plus proches du point target\n",
    "        min_d = 9999999999999\n",
    "        neighbor = None\n",
    "        for j in range(x.shape[0]):\n",
    "            # Ce if c'est pour éviter de chercher le même point\n",
    "            if not j in neighbors:\n",
    "                # Recherche du point le plus proche\n",
    "                d = euclidian_distance(target, x[j])\n",
    "                if d < min_d:\n",
    "                    min_d = d\n",
    "                    neighbor = j\n",
    "        neighbors.append(neighbor)\n",
    "    \n",
    "    # Recherche de la classe majoritaire parmit les voisins\n",
    "    classes = {}\n",
    "    for n in neighbors:\n",
    "        if not y[n] in classes:\n",
    "            classes[y[n]] = 0\n",
    "        classes[y[n]] += 1\n",
    "    \n",
    "    c_max = -1\n",
    "    classe = -1\n",
    "    for i, v in zip(classes.keys(), classes.values()):\n",
    "        if v > c_max:\n",
    "            c_max = v\n",
    "            classe = i\n",
    "    return classe\n",
    "        \n",
    "        \n",
    "\n",
    "# Chaque ligne de Xtrain à une valeur associée dans ytrain\n",
    "# On cherche pour chaque ligne de Xtest la valeur qui lui est associée et on vérifie avec ytest\n",
    "Xtrain, Xtest, ytrain, ytest = train_test_split(X_iris, y_iris, random_state=1)\n",
    "\n",
    "k = 5\n",
    "\n",
    "for i in range(Xtest.shape[0]):\n",
    "    print(f\"Classe prédite : {find_k_neighbors(k, Xtest[i], Xtrain, ytrain)}, classe attendue : {ytest[i]}\")\n",
    "\n"
   ]
  },
  {
   "cell_type": "markdown",
   "metadata": {},
   "source": [
    "## The same (and more) using Scikit-Learn\n",
    "\n",
    "The Scikit-Learn API is designed with the following guiding principles in mind, as outlined in the Scikit-Learn API paper:\n",
    "\n",
    "* Consistency: All objects share a common interface drawn from a limited set of methods, with consistent documentation.\n",
    "\n",
    "* Inspection: All specified parameter values are exposed as public attributes.\n",
    "\n",
    "* Limited object hierarchy: Only algorithms are represented by Python classes; datasets are represented in standard formats (NumPy arrays, Pandas DataFrames, SciPy sparse matrices) and parameter names use standard Python strings.\n",
    "\n",
    "* Composition: Many machine learning tasks can be expressed as sequences of more fundamental algorithms, and Scikit-Learn makes use of this wherever possible.\n",
    "\n",
    "* Sensible defaults: When models require user-specified parameters, the library defines an appropriate default value.\n",
    "\n",
    "In practice, these principles make Scikit-Learn very easy to use, once the basic principles are understood. Every machine learning algorithm in Scikit-Learn is implemented via the Estimator API, which provides a consistent interface for a wide range of machine learning applications.\n",
    "\n",
    "Most commonly, the steps in using the Scikit-Learn estimator API are as follows (we will step through a handful of detailed examples in the sections that follow).\n",
    "\n",
    "* Choose a class of model by importing the appropriate estimator class from Scikit-Learn.\n",
    "* Choose model hyperparameters by instantiating this class with desired values.\n",
    "* Arrange data into a features matrix and target vector following the discussion above.\n",
    "* Fit the model to your data by calling the fit() method of the model instance.\n",
    "* Apply the Model to new data:\n",
    "  * For supervised learning, often we predict labels for unknown data using the predict() method.\n",
    "  * For unsupervised learning, we often transform or infer properties of the data using the transform() or predict() method.\n",
    "\n",
    "We will now step through several simple examples of applying supervised and unsupervised learning methods.\n",
    "\n",
    "### Linear regression\n",
    "\n",
    "As an example of this process, let's consider a simple linear regression—that is, the common case of fitting a line to (𝑥,𝑦)  data. We will use the same simple data as before for our regression example:"
   ]
  },
  {
   "cell_type": "code",
   "execution_count": 37,
   "metadata": {},
   "outputs": [
    {
     "name": "stdout",
     "output_type": "stream",
     "text": [
      "x: [3.74540119 9.50714306 7.31993942 5.98658484 1.5601864  1.5599452\n",
      " 0.58083612 8.66176146 6.01115012 7.08072578 0.20584494 9.69909852\n",
      " 8.32442641 2.12339111 1.81824967 1.8340451  3.04242243 5.24756432\n",
      " 4.31945019 2.9122914  6.11852895 1.39493861 2.92144649 3.66361843\n",
      " 4.56069984 7.85175961 1.99673782 5.14234438 5.92414569 0.46450413\n",
      " 6.07544852 1.70524124 0.65051593 9.48885537 9.65632033 8.08397348\n",
      " 3.04613769 0.97672114 6.84233027 4.40152494 1.22038235 4.9517691\n",
      " 0.34388521 9.09320402 2.58779982 6.62522284 3.11711076 5.20068021\n",
      " 5.46710279 1.84854456]\n",
      "y: [ 7.22926896 18.18565441 13.52423055 10.67206599  0.64185082  1.4000462\n",
      " -0.29896653 17.38064514 11.36591852 11.3984114  -0.26422614 18.01311476\n",
      " 14.97193082  3.8584585   3.66749887  3.59937032  4.24562734  9.18591626\n",
      "  7.9701638   5.80012793 10.75788366  1.60421824  3.736558    5.13103024\n",
      "  8.93392551 16.05975926  2.92146552 10.28822167 11.2099274  -0.7161115\n",
      " 11.51229264  3.94851904  0.26520582 19.5423544  15.69289556 15.98984947\n",
      "  5.17932245  0.65443493 12.77642131  5.81548096  1.22109281  9.26065077\n",
      "  1.16566447 16.66813782  3.36710603 11.74868864  6.14962364  9.73011153\n",
      "  9.40444538  3.21035654]\n"
     ]
    },
    {
     "data": {
      "image/png": "[encoded data removed]",
      "text/plain": [
       "<Figure size 432x288 with 1 Axes>"
      ]
     },
     "metadata": {
      "needs_background": "light"
     },
     "output_type": "display_data"
    }
   ],
   "source": [
    "import matplotlib.pyplot as plt\n",
    "import numpy as np\n",
    "\n",
    "rng = np.random.RandomState(42)\n",
    "x = 10 * rng.rand(50)\n",
    "y = 2 * x - 1 + rng.randn(50)\n",
    "plt.scatter(x, y)\n",
    "print(\"x:\",x)\n",
    "print(\"y:\", y)"
   ]
  },
  {
   "cell_type": "markdown",
   "metadata": {},
   "source": [
    "Let's now walk through the process of building a linear regression model (the process is the same for all ML models).\n",
    "\n",
    "1. Choose a class of model\n",
    "\n",
    "In Scikit-Learn, every class of model is represented by a Python class. So, for example, if we would like to compute a simple linear regression model, we can import the linear regression class:"
   ]
  },
  {
   "cell_type": "code",
   "execution_count": 39,
   "metadata": {},
   "outputs": [],
   "source": [
    "from sklearn.linear_model import LinearRegression"
   ]
  },
  {
   "cell_type": "markdown",
   "metadata": {},
   "source": [
    "2. Choose model hyperparameters\n",
    "\n",
    "An important point is that a class of model is not the same as an instance of a model.\n",
    "\n",
    "Once we have decided on our model class, there are still some options open to us. Depending on the model class we are working with, we might need to answer one or more questions like the following:\n",
    "\n",
    "Would we like to fit for the offset (i.e., y-intercept)?\n",
    "Would we like the model to be normalized?\n",
    "Would we like to preprocess our features to add model flexibility?\n",
    "What degree of regularization would we like to use in our model?\n",
    "How many model components would we like to use?\n",
    "These are examples of the important choices that must be made once the model class is selected. These choices are often represented as hyperparameters, or parameters that must be set before the model is fit to data. In Scikit-Learn, hyperparameters are chosen by passing values at model instantiation. We will explore how you can quantitatively motivate the choice of hyperparameters later.\n",
    "\n",
    "For our linear regression example, we can instantiate the LinearRegression class and specify that we would like to fit the intercept using the fit_intercept hyperparameter:"
   ]
  },
  {
   "cell_type": "code",
   "execution_count": 40,
   "metadata": {},
   "outputs": [
    {
     "data": {
      "text/plain": [
       "LinearRegression()"
      ]
     },
     "execution_count": 40,
     "metadata": {},
     "output_type": "execute_result"
    }
   ],
   "source": [
    "model = LinearRegression(fit_intercept=True)\n",
    "model"
   ]
  },
  {
   "cell_type": "markdown",
   "metadata": {},
   "source": [
    "$\\rightarrow$ Explain the fit_intercept hyperparameter.\n",
    "\n",
    "Ce paramètre est vrai lorsque l'on cherche à calculer l'ordonnée à l'origine et faux sinon."
   ]
  },
  {
   "cell_type": "markdown",
   "metadata": {},
   "source": [
    "Keep in mind that when the model is instantiated, the only action is the storing of these hyperparameter values. In particular, we have not yet applied the model to any data: the Scikit-Learn API makes very clear the distinction between choice of model and application of model to data"
   ]
  },
  {
   "cell_type": "markdown",
   "metadata": {},
   "source": [
    "3. Arrange data into a features matrix and target vector\n",
    "\n",
    "Previously we detailed the Scikit-Learn data representation, which requires a two-dimensional features matrix and a one-dimensional target array. Here our target variable y is already in the correct form (a length-n_samples array), but we need to massage the data x to make it a matrix of size [n_samples, n_features]. In this case, this amounts to a simple reshaping of the one-dimensional array:"
   ]
  },
  {
   "cell_type": "code",
   "execution_count": 41,
   "metadata": {},
   "outputs": [
    {
     "data": {
      "text/plain": [
       "(50, 1)"
      ]
     },
     "execution_count": 41,
     "metadata": {},
     "output_type": "execute_result"
    }
   ],
   "source": [
    "X = x[:, np.newaxis]\n",
    "X.shape"
   ]
  },
  {
   "cell_type": "markdown",
   "metadata": {},
   "source": [
    "4. Fit the model to your data\n",
    "\n",
    "Now it is time to apply our model to data. This can be done with the fit() method of the model:"
   ]
  },
  {
   "cell_type": "code",
   "execution_count": 42,
   "metadata": {},
   "outputs": [
    {
     "data": {
      "text/plain": [
       "LinearRegression()"
      ]
     },
     "execution_count": 42,
     "metadata": {},
     "output_type": "execute_result"
    }
   ],
   "source": [
    "model.fit(X, y)"
   ]
  },
  {
   "cell_type": "markdown",
   "metadata": {},
   "source": [
    "This fit() command causes a number of model-dependent internal computations to take place, and the results of these computations are stored in model-specific attributes that the user can explore. In Scikit-Learn, by convention all model parameters that were learned during the fit() process have trailing underscores; for example in this linear model, we have the following:"
   ]
  },
  {
   "cell_type": "code",
   "execution_count": 44,
   "metadata": {},
   "outputs": [
    {
     "name": "stdout",
     "output_type": "stream",
     "text": [
      "[1.9776566] -0.9033107255311146\n"
     ]
    }
   ],
   "source": [
    "# model.coef_\n",
    "# model.intercept_\n",
    "\n",
    "print(model.coef_, model.intercept_)"
   ]
  },
  {
   "cell_type": "markdown",
   "metadata": {},
   "source": [
    "These two parameters represent the slope and intercept of the simple linear fit to the data. Comparing to the data definition, we see that they are very close to the input slope of 2 and intercept of -1.\n",
    "\n",
    "5. Predict labels for unknown data\n",
    "\n",
    "Once the model is trained, the main task of supervised machine learning is to evaluate it based on what it says about new data that was not part of the training set. In Scikit-Learn, this can be done using the predict() method. For the sake of this example, our \"new data\" will be a grid of x values, and we will ask what y values the model predicts:"
   ]
  },
  {
   "cell_type": "code",
   "execution_count": 45,
   "metadata": {},
   "outputs": [
    {
     "name": "stdout",
     "output_type": "stream",
     "text": [
      "xfit:  [-1.         -0.75510204 -0.51020408 -0.26530612 -0.02040816  0.2244898\n",
      "  0.46938776  0.71428571  0.95918367  1.20408163  1.44897959  1.69387755\n",
      "  1.93877551  2.18367347  2.42857143  2.67346939  2.91836735  3.16326531\n",
      "  3.40816327  3.65306122  3.89795918  4.14285714  4.3877551   4.63265306\n",
      "  4.87755102  5.12244898  5.36734694  5.6122449   5.85714286  6.10204082\n",
      "  6.34693878  6.59183673  6.83673469  7.08163265  7.32653061  7.57142857\n",
      "  7.81632653  8.06122449  8.30612245  8.55102041  8.79591837  9.04081633\n",
      "  9.28571429  9.53061224  9.7755102  10.02040816 10.26530612 10.51020408\n",
      " 10.75510204 11.        ]\n"
     ]
    }
   ],
   "source": [
    "xfit = np.linspace(-1, 11)\n",
    "print(\"xfit: \",xfit)"
   ]
  },
  {
   "cell_type": "markdown",
   "metadata": {},
   "source": [
    "$\\rightarrow$ What's the effect of linspace?"
   ]
  },
  {
   "cell_type": "markdown",
   "metadata": {},
   "source": [
    "As before, we need to coerce these x values into a [n_samples, n_features] features matrix, after which we can feed it to the model:"
   ]
  },
  {
   "cell_type": "code",
   "execution_count": null,
   "metadata": {},
   "outputs": [],
   "source": [
    "Xfit = xfit[:, np.newaxis]\n",
    "yfit = model.predict(Xfit)\n",
    "print(\"Xfit: \",Xfit)\n",
    "print(\"yfit: \",yfit)"
   ]
  },
  {
   "cell_type": "markdown",
   "metadata": {},
   "source": [
    "$\\rightarrow$ What's the effect of xfit[:, np.newaxis]? Of model.predict(Xfit)? What's the ype of Xfit ? Of yfit ?"
   ]
  },
  {
   "cell_type": "markdown",
   "metadata": {},
   "source": [
    "Finally, let's visualize the results by plotting first the raw data, and then this model fit:"
   ]
  },
  {
   "cell_type": "code",
   "execution_count": null,
   "metadata": {},
   "outputs": [],
   "source": [
    "plt.scatter(x, y)\n",
    "plt.plot(xfit, yfit);"
   ]
  },
  {
   "cell_type": "markdown",
   "metadata": {},
   "source": [
    "### k-Nearest Neighbours on Iris dataset\n",
    "\n",
    "Let's take a look at another example of this process, using the Iris dataset. Our question will be this: given a model trained on a portion of the Iris data, how well can we predict the remaining labels?\n",
    "\n",
    "For this task, we will use an extremely simple algorithm known as the $k$-NN algorithm (see above). We would like to evaluate the model on data it has not seen before, and so we will split the data into a training set and a testing set. This could be done by hand, but it is more convenient to use the train_test_split utility function:"
   ]
  },
  {
   "cell_type": "code",
   "execution_count": null,
   "metadata": {},
   "outputs": [],
   "source": [
    "from sklearn.datasets import load_iris\n",
    "dataset = load_iris()\n",
    "X_iris = dataset.data\n",
    "y_iris = dataset.target"
   ]
  },
  {
   "cell_type": "code",
   "execution_count": null,
   "metadata": {},
   "outputs": [],
   "source": [
    "from sklearn.model_selection import train_test_split\n",
    "Xtrain, Xtest, ytrain, ytest = train_test_split(X_iris, y_iris,\n",
    "                                                random_state=1)"
   ]
  },
  {
   "cell_type": "markdown",
   "metadata": {},
   "source": [
    "$\\rightarrow$ What's the use of random_state?"
   ]
  },
  {
   "cell_type": "markdown",
   "metadata": {},
   "source": [
    "$\\rightarrow$ With the data arranged, we can follow the above recipe to predict the labels using the k-NN algorithm. Write the corresponding code:\n",
    "\n",
    "<span style=\"color:green\">from sklearn.??? import ??? # 1. choose model class</span>\n",
    "\n",
    "<span style=\"color:green\">model = ???                      # 2. instantiate model</span>\n",
    "\n",
    "<span style=\"color:green\">model.fit(Xtrain, ytrain)                  # 3. fit model to data</span>\n",
    "\n",
    "<span style=\"color:green\">??? = model.predict(Xtest)             # 4. predict on new data</span>"
   ]
  },
  {
   "cell_type": "markdown",
   "metadata": {},
   "source": [
    "Finally, we can use the accuracy_score utility to see the fraction of predicted labels that match their true value:"
   ]
  },
  {
   "cell_type": "code",
   "execution_count": null,
   "metadata": {},
   "outputs": [],
   "source": [
    "from sklearn.metrics import accuracy_score\n",
    "accuracy_score(ytest, y_model)\n",
    "\n",
    "#compute the confusion matrix\n",
    "from sklearn.metrics import confusion_matrix\n",
    "confusion_matrix(ytest, y_model)"
   ]
  },
  {
   "cell_type": "markdown",
   "metadata": {},
   "source": [
    "$\\rightarrow$ What is accuracy? Give its formula and explain it.\n",
    "\n",
    "$\\rightarrow$ What's the confusion matrix of the k-NN algorithm on the Iris dataset? Write a code to compute and visualize this matrix."
   ]
  }
 ],
 "metadata": {
  "kernelspec": {
   "display_name": "Python 3 (ipykernel)",
   "language": "python",
   "name": "python3"
  },
  "language_info": {
   "codemirror_mode": {
    "name": "ipython",
    "version": 3
   },
   "file_extension": ".py",
   "mimetype": "text/x-python",
   "name": "python",
   "nbconvert_exporter": "python",
   "pygments_lexer": "ipython3",
   "version": "3.10.12"
  }
 },
 "nbformat": 4,
 "nbformat_minor": 2
}
